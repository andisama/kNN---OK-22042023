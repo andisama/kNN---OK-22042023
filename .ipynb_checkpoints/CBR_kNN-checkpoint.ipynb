{
 "cells": [
  {
   "cell_type": "code",
   "execution_count": 1,
   "id": "bf56182f",
   "metadata": {},
   "outputs": [],
   "source": [
    "# *****************************************************************************************************\n",
    "#\n",
    "# Case base reasoning with kNN (classifier)\n",
    "#\n",
    "# Library: \n",
    "#   pandas, scikit-learn, matplotlib\n",
    "# Dataset:\n",
    "#   World Economic Forum \"Readiness for the future of production report 2018\"  \n",
    "#   https://www.weforum.org/reports/readiness-for-the-future-of-production-report-2018\n",
    "# Code reference for kNN:\n",
    "#   https://realpython.com/knn-python/\n",
    "#\n",
    "# Created by: Andi Sama\n",
    "# NIM: 2540136324\n",
    "# Date created: April 21, 2023\n",
    "# Last modified: April 22, 2023\n",
    "# Program: Doctor of Computer Science (DCS)\n",
    "# Institution: Binus University\n",
    "# Subject: ISYS90219045 Advanced Knowledge System\n",
    "# Lecturer: Benfano Soewito, M.Sc., Ph.D.\n",
    "#\n",
    "# *****************************************************************************************************"
   ]
  },
  {
   "cell_type": "code",
   "execution_count": 2,
   "id": "3dd063fc",
   "metadata": {},
   "outputs": [],
   "source": [
    "# import necessary python libraries\n",
    "#\n",
    "import pandas as pd\n",
    "import matplotlib.pyplot as plt\n",
    "import numpy as np"
   ]
  },
  {
   "cell_type": "code",
   "execution_count": 3,
   "id": "0060e50f",
   "metadata": {},
   "outputs": [],
   "source": [
    "# read the dataset, store in panda dataframe 'df'\n",
    "#\n",
    "df = pd.read_csv(\"data\\WEF_FOP2.csv\")\n",
    "features = df[[\"Technology & Innovation\",\"Human Capital\",\"Global Trade & Investment\",\"Institutional Framework\", \n",
    "               \"Sustainable Resources\",\"Demand Environment\"]]\n",
    "classes = df[\"Quartile\"]"
   ]
  },
  {
   "cell_type": "code",
   "execution_count": 4,
   "id": "3afd410c",
   "metadata": {},
   "outputs": [
    {
     "data": {
      "text/html": [
       "<div>\n",
       "<style scoped>\n",
       "    .dataframe tbody tr th:only-of-type {\n",
       "        vertical-align: middle;\n",
       "    }\n",
       "\n",
       "    .dataframe tbody tr th {\n",
       "        vertical-align: top;\n",
       "    }\n",
       "\n",
       "    .dataframe thead th {\n",
       "        text-align: right;\n",
       "    }\n",
       "</style>\n",
       "<table border=\"1\" class=\"dataframe\">\n",
       "  <thead>\n",
       "    <tr style=\"text-align: right;\">\n",
       "      <th></th>\n",
       "      <th>Country</th>\n",
       "      <th>Quartile</th>\n",
       "      <th>Technology &amp; Innovation</th>\n",
       "      <th>Human Capital</th>\n",
       "      <th>Global Trade &amp; Investment</th>\n",
       "      <th>Institutional Framework</th>\n",
       "      <th>Sustainable Resources</th>\n",
       "      <th>Demand Environment</th>\n",
       "    </tr>\n",
       "  </thead>\n",
       "  <tbody>\n",
       "    <tr>\n",
       "      <th>0</th>\n",
       "      <td>Oyprus</td>\n",
       "      <td>1</td>\n",
       "      <td>5.01</td>\n",
       "      <td>6.44</td>\n",
       "      <td>6.36</td>\n",
       "      <td>6.28</td>\n",
       "      <td>5.33</td>\n",
       "      <td>3.80</td>\n",
       "    </tr>\n",
       "    <tr>\n",
       "      <th>1</th>\n",
       "      <td>Chile</td>\n",
       "      <td>1</td>\n",
       "      <td>4.36</td>\n",
       "      <td>5.32</td>\n",
       "      <td>6.02</td>\n",
       "      <td>6.91</td>\n",
       "      <td>6.87</td>\n",
       "      <td>4.89</td>\n",
       "    </tr>\n",
       "    <tr>\n",
       "      <th>2</th>\n",
       "      <td>Saudi Arabia</td>\n",
       "      <td>1</td>\n",
       "      <td>4.50</td>\n",
       "      <td>5.21</td>\n",
       "      <td>5.41</td>\n",
       "      <td>6.19</td>\n",
       "      <td>5.00</td>\n",
       "      <td>6.19</td>\n",
       "    </tr>\n",
       "    <tr>\n",
       "      <th>3</th>\n",
       "      <td>Latvia</td>\n",
       "      <td>1</td>\n",
       "      <td>4.54</td>\n",
       "      <td>5.63</td>\n",
       "      <td>5.64</td>\n",
       "      <td>6.42</td>\n",
       "      <td>8.44</td>\n",
       "      <td>3.45</td>\n",
       "    </tr>\n",
       "    <tr>\n",
       "      <th>4</th>\n",
       "      <td>Mauritius</td>\n",
       "      <td>1</td>\n",
       "      <td>5.08</td>\n",
       "      <td>5.15</td>\n",
       "      <td>5.95</td>\n",
       "      <td>6.48</td>\n",
       "      <td>6.21</td>\n",
       "      <td>3.48</td>\n",
       "    </tr>\n",
       "  </tbody>\n",
       "</table>\n",
       "</div>"
      ],
      "text/plain": [
       "        Country  Quartile  Technology & Innovation  Human Capital  \\\n",
       "0        Oyprus         1                     5.01           6.44   \n",
       "1         Chile         1                     4.36           5.32   \n",
       "2  Saudi Arabia         1                     4.50           5.21   \n",
       "3        Latvia         1                     4.54           5.63   \n",
       "4     Mauritius         1                     5.08           5.15   \n",
       "\n",
       "   Global Trade & Investment  Institutional Framework  Sustainable Resources  \\\n",
       "0                       6.36                     6.28                   5.33   \n",
       "1                       6.02                     6.91                   6.87   \n",
       "2                       5.41                     6.19                   5.00   \n",
       "3                       5.64                     6.42                   8.44   \n",
       "4                       5.95                     6.48                   6.21   \n",
       "\n",
       "   Demand Environment  \n",
       "0                3.80  \n",
       "1                4.89  \n",
       "2                6.19  \n",
       "3                3.45  \n",
       "4                3.48  "
      ]
     },
     "execution_count": 4,
     "metadata": {},
     "output_type": "execute_result"
    }
   ],
   "source": [
    "# let's quickly see the dataset\n",
    "#\n",
    "df.head()"
   ]
  },
  {
   "cell_type": "code",
   "execution_count": 5,
   "id": "da577fa7",
   "metadata": {
    "scrolled": false
   },
   "outputs": [
    {
     "data": {
      "text/html": [
       "<div>\n",
       "<style scoped>\n",
       "    .dataframe tbody tr th:only-of-type {\n",
       "        vertical-align: middle;\n",
       "    }\n",
       "\n",
       "    .dataframe tbody tr th {\n",
       "        vertical-align: top;\n",
       "    }\n",
       "\n",
       "    .dataframe thead th {\n",
       "        text-align: right;\n",
       "    }\n",
       "</style>\n",
       "<table border=\"1\" class=\"dataframe\">\n",
       "  <thead>\n",
       "    <tr style=\"text-align: right;\">\n",
       "      <th></th>\n",
       "      <th>Country</th>\n",
       "      <th>Quartile</th>\n",
       "      <th>Technology &amp; Innovation</th>\n",
       "      <th>Human Capital</th>\n",
       "      <th>Global Trade &amp; Investment</th>\n",
       "      <th>Institutional Framework</th>\n",
       "      <th>Sustainable Resources</th>\n",
       "      <th>Demand Environment</th>\n",
       "    </tr>\n",
       "  </thead>\n",
       "  <tbody>\n",
       "    <tr>\n",
       "      <th>0</th>\n",
       "      <td>Oyprus</td>\n",
       "      <td>1</td>\n",
       "      <td>5.01</td>\n",
       "      <td>6.44</td>\n",
       "      <td>6.36</td>\n",
       "      <td>6.28</td>\n",
       "      <td>5.33</td>\n",
       "      <td>3.80</td>\n",
       "    </tr>\n",
       "    <tr>\n",
       "      <th>1</th>\n",
       "      <td>Chile</td>\n",
       "      <td>1</td>\n",
       "      <td>4.36</td>\n",
       "      <td>5.32</td>\n",
       "      <td>6.02</td>\n",
       "      <td>6.91</td>\n",
       "      <td>6.87</td>\n",
       "      <td>4.89</td>\n",
       "    </tr>\n",
       "    <tr>\n",
       "      <th>2</th>\n",
       "      <td>Saudi Arabia</td>\n",
       "      <td>1</td>\n",
       "      <td>4.50</td>\n",
       "      <td>5.21</td>\n",
       "      <td>5.41</td>\n",
       "      <td>6.19</td>\n",
       "      <td>5.00</td>\n",
       "      <td>6.19</td>\n",
       "    </tr>\n",
       "    <tr>\n",
       "      <th>3</th>\n",
       "      <td>Latvia</td>\n",
       "      <td>1</td>\n",
       "      <td>4.54</td>\n",
       "      <td>5.63</td>\n",
       "      <td>5.64</td>\n",
       "      <td>6.42</td>\n",
       "      <td>8.44</td>\n",
       "      <td>3.45</td>\n",
       "    </tr>\n",
       "    <tr>\n",
       "      <th>4</th>\n",
       "      <td>Mauritius</td>\n",
       "      <td>1</td>\n",
       "      <td>5.08</td>\n",
       "      <td>5.15</td>\n",
       "      <td>5.95</td>\n",
       "      <td>6.48</td>\n",
       "      <td>6.21</td>\n",
       "      <td>3.48</td>\n",
       "    </tr>\n",
       "    <tr>\n",
       "      <th>...</th>\n",
       "      <td>...</td>\n",
       "      <td>...</td>\n",
       "      <td>...</td>\n",
       "      <td>...</td>\n",
       "      <td>...</td>\n",
       "      <td>...</td>\n",
       "      <td>...</td>\n",
       "      <td>...</td>\n",
       "    </tr>\n",
       "    <tr>\n",
       "      <th>53</th>\n",
       "      <td>Kyrgyz Republic</td>\n",
       "      <td>4</td>\n",
       "      <td>2.56</td>\n",
       "      <td>4.15</td>\n",
       "      <td>3.86</td>\n",
       "      <td>3.41</td>\n",
       "      <td>2.89</td>\n",
       "      <td>3.24</td>\n",
       "    </tr>\n",
       "    <tr>\n",
       "      <th>54</th>\n",
       "      <td>Uganda</td>\n",
       "      <td>4</td>\n",
       "      <td>3.19</td>\n",
       "      <td>3.01</td>\n",
       "      <td>1.98</td>\n",
       "      <td>4.55</td>\n",
       "      <td>5.70</td>\n",
       "      <td>3.17</td>\n",
       "    </tr>\n",
       "    <tr>\n",
       "      <th>55</th>\n",
       "      <td>Ethiopia</td>\n",
       "      <td>4</td>\n",
       "      <td>2.57</td>\n",
       "      <td>3.42</td>\n",
       "      <td>1.97</td>\n",
       "      <td>4.27</td>\n",
       "      <td>4.38</td>\n",
       "      <td>4.17</td>\n",
       "    </tr>\n",
       "    <tr>\n",
       "      <th>56</th>\n",
       "      <td>Tanzania</td>\n",
       "      <td>4</td>\n",
       "      <td>2.82</td>\n",
       "      <td>2.85</td>\n",
       "      <td>2.18</td>\n",
       "      <td>4.39</td>\n",
       "      <td>4.93</td>\n",
       "      <td>3.88</td>\n",
       "    </tr>\n",
       "    <tr>\n",
       "      <th>57</th>\n",
       "      <td>Cameroon</td>\n",
       "      <td>4</td>\n",
       "      <td>3.11</td>\n",
       "      <td>3.18</td>\n",
       "      <td>2.58</td>\n",
       "      <td>3.36</td>\n",
       "      <td>4.97</td>\n",
       "      <td>3.63</td>\n",
       "    </tr>\n",
       "  </tbody>\n",
       "</table>\n",
       "<p>58 rows × 8 columns</p>\n",
       "</div>"
      ],
      "text/plain": [
       "            Country  Quartile  Technology & Innovation  Human Capital  \\\n",
       "0            Oyprus         1                     5.01           6.44   \n",
       "1             Chile         1                     4.36           5.32   \n",
       "2      Saudi Arabia         1                     4.50           5.21   \n",
       "3            Latvia         1                     4.54           5.63   \n",
       "4         Mauritius         1                     5.08           5.15   \n",
       "..              ...       ...                      ...            ...   \n",
       "53  Kyrgyz Republic         4                     2.56           4.15   \n",
       "54           Uganda         4                     3.19           3.01   \n",
       "55         Ethiopia         4                     2.57           3.42   \n",
       "56         Tanzania         4                     2.82           2.85   \n",
       "57         Cameroon         4                     3.11           3.18   \n",
       "\n",
       "    Global Trade & Investment  Institutional Framework  Sustainable Resources  \\\n",
       "0                        6.36                     6.28                   5.33   \n",
       "1                        6.02                     6.91                   6.87   \n",
       "2                        5.41                     6.19                   5.00   \n",
       "3                        5.64                     6.42                   8.44   \n",
       "4                        5.95                     6.48                   6.21   \n",
       "..                        ...                      ...                    ...   \n",
       "53                       3.86                     3.41                   2.89   \n",
       "54                       1.98                     4.55                   5.70   \n",
       "55                       1.97                     4.27                   4.38   \n",
       "56                       2.18                     4.39                   4.93   \n",
       "57                       2.58                     3.36                   4.97   \n",
       "\n",
       "    Demand Environment  \n",
       "0                 3.80  \n",
       "1                 4.89  \n",
       "2                 6.19  \n",
       "3                 3.45  \n",
       "4                 3.48  \n",
       "..                 ...  \n",
       "53                3.24  \n",
       "54                3.17  \n",
       "55                4.17  \n",
       "56                3.88  \n",
       "57                3.63  \n",
       "\n",
       "[58 rows x 8 columns]"
      ]
     },
     "execution_count": 5,
     "metadata": {},
     "output_type": "execute_result"
    }
   ],
   "source": [
    "# let's take a look more at the dataset\n",
    "#\n",
    "pd.set_option('display.max_rows', 10)\n",
    "df"
   ]
  },
  {
   "cell_type": "code",
   "execution_count": 6,
   "id": "fcabb2b6",
   "metadata": {
    "scrolled": true
   },
   "outputs": [
    {
     "data": {
      "text/html": [
       "<div>\n",
       "<style scoped>\n",
       "    .dataframe tbody tr th:only-of-type {\n",
       "        vertical-align: middle;\n",
       "    }\n",
       "\n",
       "    .dataframe tbody tr th {\n",
       "        vertical-align: top;\n",
       "    }\n",
       "\n",
       "    .dataframe thead th {\n",
       "        text-align: right;\n",
       "    }\n",
       "</style>\n",
       "<table border=\"1\" class=\"dataframe\">\n",
       "  <thead>\n",
       "    <tr style=\"text-align: right;\">\n",
       "      <th></th>\n",
       "      <th>Technology &amp; Innovation</th>\n",
       "      <th>Human Capital</th>\n",
       "      <th>Global Trade &amp; Investment</th>\n",
       "      <th>Institutional Framework</th>\n",
       "      <th>Sustainable Resources</th>\n",
       "      <th>Demand Environment</th>\n",
       "    </tr>\n",
       "  </thead>\n",
       "  <tbody>\n",
       "    <tr>\n",
       "      <th>0</th>\n",
       "      <td>5.01</td>\n",
       "      <td>6.44</td>\n",
       "      <td>6.36</td>\n",
       "      <td>6.28</td>\n",
       "      <td>5.33</td>\n",
       "      <td>3.80</td>\n",
       "    </tr>\n",
       "    <tr>\n",
       "      <th>1</th>\n",
       "      <td>4.36</td>\n",
       "      <td>5.32</td>\n",
       "      <td>6.02</td>\n",
       "      <td>6.91</td>\n",
       "      <td>6.87</td>\n",
       "      <td>4.89</td>\n",
       "    </tr>\n",
       "    <tr>\n",
       "      <th>2</th>\n",
       "      <td>4.50</td>\n",
       "      <td>5.21</td>\n",
       "      <td>5.41</td>\n",
       "      <td>6.19</td>\n",
       "      <td>5.00</td>\n",
       "      <td>6.19</td>\n",
       "    </tr>\n",
       "    <tr>\n",
       "      <th>3</th>\n",
       "      <td>4.54</td>\n",
       "      <td>5.63</td>\n",
       "      <td>5.64</td>\n",
       "      <td>6.42</td>\n",
       "      <td>8.44</td>\n",
       "      <td>3.45</td>\n",
       "    </tr>\n",
       "    <tr>\n",
       "      <th>4</th>\n",
       "      <td>5.08</td>\n",
       "      <td>5.15</td>\n",
       "      <td>5.95</td>\n",
       "      <td>6.48</td>\n",
       "      <td>6.21</td>\n",
       "      <td>3.48</td>\n",
       "    </tr>\n",
       "    <tr>\n",
       "      <th>...</th>\n",
       "      <td>...</td>\n",
       "      <td>...</td>\n",
       "      <td>...</td>\n",
       "      <td>...</td>\n",
       "      <td>...</td>\n",
       "      <td>...</td>\n",
       "    </tr>\n",
       "    <tr>\n",
       "      <th>53</th>\n",
       "      <td>2.56</td>\n",
       "      <td>4.15</td>\n",
       "      <td>3.86</td>\n",
       "      <td>3.41</td>\n",
       "      <td>2.89</td>\n",
       "      <td>3.24</td>\n",
       "    </tr>\n",
       "    <tr>\n",
       "      <th>54</th>\n",
       "      <td>3.19</td>\n",
       "      <td>3.01</td>\n",
       "      <td>1.98</td>\n",
       "      <td>4.55</td>\n",
       "      <td>5.70</td>\n",
       "      <td>3.17</td>\n",
       "    </tr>\n",
       "    <tr>\n",
       "      <th>55</th>\n",
       "      <td>2.57</td>\n",
       "      <td>3.42</td>\n",
       "      <td>1.97</td>\n",
       "      <td>4.27</td>\n",
       "      <td>4.38</td>\n",
       "      <td>4.17</td>\n",
       "    </tr>\n",
       "    <tr>\n",
       "      <th>56</th>\n",
       "      <td>2.82</td>\n",
       "      <td>2.85</td>\n",
       "      <td>2.18</td>\n",
       "      <td>4.39</td>\n",
       "      <td>4.93</td>\n",
       "      <td>3.88</td>\n",
       "    </tr>\n",
       "    <tr>\n",
       "      <th>57</th>\n",
       "      <td>3.11</td>\n",
       "      <td>3.18</td>\n",
       "      <td>2.58</td>\n",
       "      <td>3.36</td>\n",
       "      <td>4.97</td>\n",
       "      <td>3.63</td>\n",
       "    </tr>\n",
       "  </tbody>\n",
       "</table>\n",
       "<p>58 rows × 6 columns</p>\n",
       "</div>"
      ],
      "text/plain": [
       "    Technology & Innovation  Human Capital  Global Trade & Investment  \\\n",
       "0                      5.01           6.44                       6.36   \n",
       "1                      4.36           5.32                       6.02   \n",
       "2                      4.50           5.21                       5.41   \n",
       "3                      4.54           5.63                       5.64   \n",
       "4                      5.08           5.15                       5.95   \n",
       "..                      ...            ...                        ...   \n",
       "53                     2.56           4.15                       3.86   \n",
       "54                     3.19           3.01                       1.98   \n",
       "55                     2.57           3.42                       1.97   \n",
       "56                     2.82           2.85                       2.18   \n",
       "57                     3.11           3.18                       2.58   \n",
       "\n",
       "    Institutional Framework  Sustainable Resources  Demand Environment  \n",
       "0                      6.28                   5.33                3.80  \n",
       "1                      6.91                   6.87                4.89  \n",
       "2                      6.19                   5.00                6.19  \n",
       "3                      6.42                   8.44                3.45  \n",
       "4                      6.48                   6.21                3.48  \n",
       "..                      ...                    ...                 ...  \n",
       "53                     3.41                   2.89                3.24  \n",
       "54                     4.55                   5.70                3.17  \n",
       "55                     4.27                   4.38                4.17  \n",
       "56                     4.39                   4.93                3.88  \n",
       "57                     3.36                   4.97                3.63  \n",
       "\n",
       "[58 rows x 6 columns]"
      ]
     },
     "execution_count": 6,
     "metadata": {},
     "output_type": "execute_result"
    }
   ],
   "source": [
    "# let's inspect the input for our rule-based algorithm (classification)\n",
    "#\n",
    "features"
   ]
  },
  {
   "cell_type": "code",
   "execution_count": 7,
   "id": "0885a61b",
   "metadata": {
    "scrolled": true
   },
   "outputs": [
    {
     "data": {
      "text/plain": [
       "0     1\n",
       "1     1\n",
       "2     1\n",
       "3     1\n",
       "4     1\n",
       "     ..\n",
       "53    4\n",
       "54    4\n",
       "55    4\n",
       "56    4\n",
       "57    4\n",
       "Name: Quartile, Length: 58, dtype: int64"
      ]
     },
     "execution_count": 7,
     "metadata": {},
     "output_type": "execute_result"
    }
   ],
   "source": [
    "# let's inspect the target class for our rule-based algorithm (classification)\n",
    "#\n",
    "classes"
   ]
  },
  {
   "cell_type": "code",
   "execution_count": 8,
   "id": "55522372",
   "metadata": {},
   "outputs": [],
   "source": [
    "# pre-process the dataset for the training\n",
    "# split the training data: test data to 80%:20%\n",
    "# X is the features, y is the target classes\n",
    "#\n",
    "from sklearn.model_selection import train_test_split\n",
    "X_train, X_test, y_train, y_test = train_test_split(\n",
    "    features.values, classes.values, test_size=0.2, random_state=54321)"
   ]
  },
  {
   "cell_type": "code",
   "execution_count": 9,
   "id": "9d47636f",
   "metadata": {},
   "outputs": [
    {
     "data": {
      "text/html": [
       "<style>#sk-container-id-1 {color: black;background-color: white;}#sk-container-id-1 pre{padding: 0;}#sk-container-id-1 div.sk-toggleable {background-color: white;}#sk-container-id-1 label.sk-toggleable__label {cursor: pointer;display: block;width: 100%;margin-bottom: 0;padding: 0.3em;box-sizing: border-box;text-align: center;}#sk-container-id-1 label.sk-toggleable__label-arrow:before {content: \"▸\";float: left;margin-right: 0.25em;color: #696969;}#sk-container-id-1 label.sk-toggleable__label-arrow:hover:before {color: black;}#sk-container-id-1 div.sk-estimator:hover label.sk-toggleable__label-arrow:before {color: black;}#sk-container-id-1 div.sk-toggleable__content {max-height: 0;max-width: 0;overflow: hidden;text-align: left;background-color: #f0f8ff;}#sk-container-id-1 div.sk-toggleable__content pre {margin: 0.2em;color: black;border-radius: 0.25em;background-color: #f0f8ff;}#sk-container-id-1 input.sk-toggleable__control:checked~div.sk-toggleable__content {max-height: 200px;max-width: 100%;overflow: auto;}#sk-container-id-1 input.sk-toggleable__control:checked~label.sk-toggleable__label-arrow:before {content: \"▾\";}#sk-container-id-1 div.sk-estimator input.sk-toggleable__control:checked~label.sk-toggleable__label {background-color: #d4ebff;}#sk-container-id-1 div.sk-label input.sk-toggleable__control:checked~label.sk-toggleable__label {background-color: #d4ebff;}#sk-container-id-1 input.sk-hidden--visually {border: 0;clip: rect(1px 1px 1px 1px);clip: rect(1px, 1px, 1px, 1px);height: 1px;margin: -1px;overflow: hidden;padding: 0;position: absolute;width: 1px;}#sk-container-id-1 div.sk-estimator {font-family: monospace;background-color: #f0f8ff;border: 1px dotted black;border-radius: 0.25em;box-sizing: border-box;margin-bottom: 0.5em;}#sk-container-id-1 div.sk-estimator:hover {background-color: #d4ebff;}#sk-container-id-1 div.sk-parallel-item::after {content: \"\";width: 100%;border-bottom: 1px solid gray;flex-grow: 1;}#sk-container-id-1 div.sk-label:hover label.sk-toggleable__label {background-color: #d4ebff;}#sk-container-id-1 div.sk-serial::before {content: \"\";position: absolute;border-left: 1px solid gray;box-sizing: border-box;top: 0;bottom: 0;left: 50%;z-index: 0;}#sk-container-id-1 div.sk-serial {display: flex;flex-direction: column;align-items: center;background-color: white;padding-right: 0.2em;padding-left: 0.2em;position: relative;}#sk-container-id-1 div.sk-item {position: relative;z-index: 1;}#sk-container-id-1 div.sk-parallel {display: flex;align-items: stretch;justify-content: center;background-color: white;position: relative;}#sk-container-id-1 div.sk-item::before, #sk-container-id-1 div.sk-parallel-item::before {content: \"\";position: absolute;border-left: 1px solid gray;box-sizing: border-box;top: 0;bottom: 0;left: 50%;z-index: -1;}#sk-container-id-1 div.sk-parallel-item {display: flex;flex-direction: column;z-index: 1;position: relative;background-color: white;}#sk-container-id-1 div.sk-parallel-item:first-child::after {align-self: flex-end;width: 50%;}#sk-container-id-1 div.sk-parallel-item:last-child::after {align-self: flex-start;width: 50%;}#sk-container-id-1 div.sk-parallel-item:only-child::after {width: 0;}#sk-container-id-1 div.sk-dashed-wrapped {border: 1px dashed gray;margin: 0 0.4em 0.5em 0.4em;box-sizing: border-box;padding-bottom: 0.4em;background-color: white;}#sk-container-id-1 div.sk-label label {font-family: monospace;font-weight: bold;display: inline-block;line-height: 1.2em;}#sk-container-id-1 div.sk-label-container {text-align: center;}#sk-container-id-1 div.sk-container {/* jupyter's `normalize.less` sets `[hidden] { display: none; }` but bootstrap.min.css set `[hidden] { display: none !important; }` so we also need the `!important` here to be able to override the default hidden behavior on the sphinx rendered scikit-learn.org. See: https://github.com/scikit-learn/scikit-learn/issues/21755 */display: inline-block !important;position: relative;}#sk-container-id-1 div.sk-text-repr-fallback {display: none;}</style><div id=\"sk-container-id-1\" class=\"sk-top-container\"><div class=\"sk-text-repr-fallback\"><pre>KNeighborsRegressor()</pre><b>In a Jupyter environment, please rerun this cell to show the HTML representation or trust the notebook. <br />On GitHub, the HTML representation is unable to render, please try loading this page with nbviewer.org.</b></div><div class=\"sk-container\" hidden><div class=\"sk-item\"><div class=\"sk-estimator sk-toggleable\"><input class=\"sk-toggleable__control sk-hidden--visually\" id=\"sk-estimator-id-1\" type=\"checkbox\" checked><label for=\"sk-estimator-id-1\" class=\"sk-toggleable__label sk-toggleable__label-arrow\">KNeighborsRegressor</label><div class=\"sk-toggleable__content\"><pre>KNeighborsRegressor()</pre></div></div></div></div></div>"
      ],
      "text/plain": [
       "KNeighborsRegressor()"
      ]
     },
     "execution_count": 9,
     "metadata": {},
     "output_type": "execute_result"
    }
   ],
   "source": [
    "# train the model\n",
    "# set k=5 (based on manual experiment from k=3 to k=6)\n",
    "#   adjusted k as such so:\n",
    "#     got the lowest RMSE on the train data (between 0.2-0.5)\n",
    "#     while maintaing lower RMSE (<0.5) on the test data\n",
    "#\n",
    "from sklearn.neighbors import KNeighborsRegressor\n",
    "knn_model = KNeighborsRegressor(n_neighbors=5)\n",
    "knn_model.fit(X_train, y_train)"
   ]
  },
  {
   "cell_type": "code",
   "execution_count": 10,
   "id": "f2441661",
   "metadata": {},
   "outputs": [
    {
     "data": {
      "text/plain": [
       "0.33362306249131957"
      ]
     },
     "execution_count": 10,
     "metadata": {},
     "output_type": "execute_result"
    }
   ],
   "source": [
    "# 1st, calculate the RMSE (root mean square error) for the training dataset\n",
    "#\n",
    "from sklearn.metrics import mean_squared_error\n",
    "from math import sqrt\n",
    "train_preds = knn_model.predict(X_train)\n",
    "mse = mean_squared_error(y_train, train_preds)\n",
    "rmse = sqrt(mse)\n",
    "rmse"
   ]
  },
  {
   "cell_type": "code",
   "execution_count": 11,
   "id": "0dc1a999",
   "metadata": {},
   "outputs": [
    {
     "data": {
      "text/plain": [
       "array([[3.48, 3.67, 2.37, 3.22, 6.8 , 5.28],\n",
       "       [3.36, 4.75, 5.59, 4.95, 4.01, 4.78],\n",
       "       [2.89, 4.02, 3.53, 3.2 , 6.94, 4.24],\n",
       "       [3.87, 5.67, 4.19, 5.87, 6.94, 4.23],\n",
       "       [4.62, 5.11, 5.81, 6.07, 3.53, 4.19],\n",
       "       [2.67, 3.14, 3.17, 4.46, 6.49, 3.49],\n",
       "       [3.4 , 4.62, 3.69, 4.7 , 6.19, 3.16],\n",
       "       [4.21, 3.93, 4.23, 4.3 , 6.43, 5.37],\n",
       "       [3.96, 4.12, 4.56, 5.01, 5.7 , 3.93],\n",
       "       [4.36, 5.32, 6.02, 6.91, 6.87, 4.89],\n",
       "       [3.91, 4.9 , 5.6 , 4.95, 7.6 , 4.26],\n",
       "       [4.43, 5.6 , 5.96, 6.26, 4.78, 4.16],\n",
       "       [3.52, 4.51, 3.82, 4.85, 4.59, 4.61],\n",
       "       [3.19, 3.01, 1.98, 4.55, 5.7 , 3.17],\n",
       "       [4.01, 4.6 , 3.89, 4.6 , 7.53, 4.91],\n",
       "       [5.01, 6.44, 6.36, 6.28, 5.33, 3.8 ],\n",
       "       [3.28, 5.58, 5.47, 3.3 , 5.44, 4.2 ],\n",
       "       [3.02, 3.99, 4.46, 3.7 , 6.05, 3.37],\n",
       "       [3.34, 4.24, 3.96, 4.32, 6.27, 4.61],\n",
       "       [3.18, 3.65, 2.72, 3.67, 2.88, 5.37],\n",
       "       [4.14, 5.23, 4.63, 4.55, 4.86, 4.89],\n",
       "       [3.89, 3.72, 2.52, 4.22, 6.54, 4.18],\n",
       "       [2.96, 4.53, 4.63, 4.49, 1.86, 2.68],\n",
       "       [3.49, 4.29, 3.85, 4.22, 6.  , 3.65],\n",
       "       [3.51, 5.79, 5.11, 3.38, 4.59, 4.53],\n",
       "       [2.64, 3.45, 4.03, 3.63, 6.53, 3.14],\n",
       "       [5.02, 4.46, 5.48, 5.95, 4.4 , 3.47],\n",
       "       [3.19, 3.38, 3.05, 4.  , 4.73, 4.76],\n",
       "       [3.28, 3.75, 3.96, 3.09, 4.51, 3.93],\n",
       "       [4.13, 3.43, 4.69, 4.8 , 4.77, 4.7 ],\n",
       "       [3.09, 4.48, 7.  , 4.99, 4.59, 5.22],\n",
       "       [3.5 , 4.91, 4.48, 3.83, 5.36, 2.69],\n",
       "       [4.23, 4.92, 5.54, 5.27, 8.15, 3.54],\n",
       "       [3.31, 4.06, 3.53, 5.03, 6.67, 4.11],\n",
       "       [2.97, 3.58, 3.28, 3.6 , 5.36, 5.  ],\n",
       "       [2.82, 2.85, 2.18, 4.39, 4.93, 3.88],\n",
       "       [4.49, 4.42, 5.27, 4.51, 7.55, 6.1 ],\n",
       "       [4.76, 5.07, 5.4 , 4.97, 6.89, 4.27],\n",
       "       [4.46, 4.84, 3.57, 6.36, 6.68, 3.77],\n",
       "       [3.92, 5.5 , 5.15, 5.63, 4.8 , 4.17],\n",
       "       [3.77, 5.03, 5.08, 4.88, 6.23, 3.49],\n",
       "       [3.71, 4.21, 4.77, 4.2 , 4.63, 2.87],\n",
       "       [3.78, 4.94, 3.15, 4.16, 5.84, 4.99],\n",
       "       [3.39, 4.4 , 4.37, 6.22, 5.49, 3.23],\n",
       "       [4.1 , 5.33, 5.36, 4.89, 6.61, 4.62],\n",
       "       [4.  , 4.99, 5.06, 4.59, 4.09, 6.38]])"
      ]
     },
     "execution_count": 11,
     "metadata": {},
     "output_type": "execute_result"
    }
   ],
   "source": [
    "X_train"
   ]
  },
  {
   "cell_type": "code",
   "execution_count": 12,
   "id": "45188354",
   "metadata": {},
   "outputs": [
    {
     "data": {
      "text/plain": [
       "array([3.6, 1.6, 3.4, 1.6, 1.2, 3.6, 3. , 2.2, 2.8, 1.4, 1.4, 1. , 3. ,\n",
       "       3.8, 2.4, 1. , 2.2, 3.2, 2.8, 3.8, 2. , 3.4, 2.6, 3. , 2.2, 3.6,\n",
       "       1.4, 3.8, 3.6, 2.6, 1.4, 3. , 1.4, 3.2, 3.6, 4. , 1.6, 1.4, 2.4,\n",
       "       1.4, 2. , 3. , 2.8, 2.4, 1.6, 2.4])"
      ]
     },
     "execution_count": 12,
     "metadata": {},
     "output_type": "execute_result"
    }
   ],
   "source": [
    "train_preds"
   ]
  },
  {
   "cell_type": "code",
   "execution_count": 13,
   "id": "9565aca7",
   "metadata": {},
   "outputs": [
    {
     "data": {
      "text/plain": [
       "0.48304589153964794"
      ]
     },
     "execution_count": 13,
     "metadata": {},
     "output_type": "execute_result"
    }
   ],
   "source": [
    "# 2nd, calculate the RMSE for the test dataset\n",
    "test_preds = knn_model.predict(X_test)\n",
    "mse = mean_squared_error(y_test, test_preds)\n",
    "rmse = sqrt(mse)\n",
    "rmse"
   ]
  },
  {
   "cell_type": "code",
   "execution_count": 14,
   "id": "5d7ee634",
   "metadata": {
    "scrolled": true
   },
   "outputs": [
    {
     "data": {
      "image/png": "[encoded data removed]",
      "text/plain": [
       "<Figure size 432x288 with 2 Axes>"
      ]
     },
     "metadata": {
      "needs_background": "light"
     },
     "output_type": "display_data"
    }
   ],
   "source": [
    "import seaborn as sns\n",
    "cmap = sns.cubehelix_palette(as_cmap=True)\n",
    "f, ax = plt.subplots()\n",
    "points = ax.scatter(\n",
    "    X_test[:, 0], X_test[:, 1], c=test_preds, s=50, cmap=cmap)\n",
    "f.colorbar(points)\n",
    "plt.show()"
   ]
  },
  {
   "cell_type": "code",
   "execution_count": 16,
   "id": "2992c2ef",
   "metadata": {},
   "outputs": [
    {
     "data": {
      "text/plain": [
       "(58, 6)"
      ]
     },
     "execution_count": 16,
     "metadata": {},
     "output_type": "execute_result"
    }
   ],
   "source": [
    "#inspect the features shape\n",
    "#\n",
    "features.shape"
   ]
  },
  {
   "cell_type": "code",
   "execution_count": 17,
   "id": "ea3b5443",
   "metadata": {},
   "outputs": [],
   "source": [
    "# prediction from a few sample data, just to make sure for validation\n",
    "#\n",
    "my_data=([4.5,5.21,5.41,6.19,5,6.19],             # saudi arabia, Q1\n",
    "          [4,4.99,5.06,4.59,4.09,6.38],           # indonesia, Q2\n",
    "          [3.18,3.65,2.72,3.67,2.88,5.37],        # pakistan, Q4\n",
    "          [4.01,4.23,4.11,4.17,3.97,4.68])        # with one new data - just a fixed randomized data\n",
    "new_features=pd.DataFrame(my_data).transpose()"
   ]
  },
  {
   "cell_type": "code",
   "execution_count": 18,
   "id": "fc7d544f",
   "metadata": {},
   "outputs": [
    {
     "data": {
      "text/plain": [
       "(6, 4)"
      ]
     },
     "execution_count": 18,
     "metadata": {},
     "output_type": "execute_result"
    }
   ],
   "source": [
    "#inspect the new_features shape\n",
    "#\n",
    "new_features.shape"
   ]
  },
  {
   "cell_type": "code",
   "execution_count": 19,
   "id": "092eaed5",
   "metadata": {
    "scrolled": true
   },
   "outputs": [
    {
     "data": {
      "text/html": [
       "<div>\n",
       "<style scoped>\n",
       "    .dataframe tbody tr th:only-of-type {\n",
       "        vertical-align: middle;\n",
       "    }\n",
       "\n",
       "    .dataframe tbody tr th {\n",
       "        vertical-align: top;\n",
       "    }\n",
       "\n",
       "    .dataframe thead th {\n",
       "        text-align: right;\n",
       "    }\n",
       "</style>\n",
       "<table border=\"1\" class=\"dataframe\">\n",
       "  <thead>\n",
       "    <tr style=\"text-align: right;\">\n",
       "      <th></th>\n",
       "      <th>0</th>\n",
       "      <th>1</th>\n",
       "      <th>2</th>\n",
       "      <th>3</th>\n",
       "    </tr>\n",
       "  </thead>\n",
       "  <tbody>\n",
       "    <tr>\n",
       "      <th>0</th>\n",
       "      <td>4.50</td>\n",
       "      <td>4.00</td>\n",
       "      <td>3.18</td>\n",
       "      <td>4.01</td>\n",
       "    </tr>\n",
       "    <tr>\n",
       "      <th>1</th>\n",
       "      <td>5.21</td>\n",
       "      <td>4.99</td>\n",
       "      <td>3.65</td>\n",
       "      <td>4.23</td>\n",
       "    </tr>\n",
       "    <tr>\n",
       "      <th>2</th>\n",
       "      <td>5.41</td>\n",
       "      <td>5.06</td>\n",
       "      <td>2.72</td>\n",
       "      <td>4.11</td>\n",
       "    </tr>\n",
       "    <tr>\n",
       "      <th>3</th>\n",
       "      <td>6.19</td>\n",
       "      <td>4.59</td>\n",
       "      <td>3.67</td>\n",
       "      <td>4.17</td>\n",
       "    </tr>\n",
       "    <tr>\n",
       "      <th>4</th>\n",
       "      <td>5.00</td>\n",
       "      <td>4.09</td>\n",
       "      <td>2.88</td>\n",
       "      <td>3.97</td>\n",
       "    </tr>\n",
       "    <tr>\n",
       "      <th>5</th>\n",
       "      <td>6.19</td>\n",
       "      <td>6.38</td>\n",
       "      <td>5.37</td>\n",
       "      <td>4.68</td>\n",
       "    </tr>\n",
       "  </tbody>\n",
       "</table>\n",
       "</div>"
      ],
      "text/plain": [
       "      0     1     2     3\n",
       "0  4.50  4.00  3.18  4.01\n",
       "1  5.21  4.99  3.65  4.23\n",
       "2  5.41  5.06  2.72  4.11\n",
       "3  6.19  4.59  3.67  4.17\n",
       "4  5.00  4.09  2.88  3.97\n",
       "5  6.19  6.38  5.37  4.68"
      ]
     },
     "execution_count": 19,
     "metadata": {},
     "output_type": "execute_result"
    }
   ],
   "source": [
    "# n=new_features[0].to_frame()\n",
    "#\n",
    "new_features"
   ]
  },
  {
   "cell_type": "code",
   "execution_count": 20,
   "id": "381c7a1a",
   "metadata": {},
   "outputs": [],
   "source": [
    "# Generate eight randomized data for all six features each, within the boundary of the trained data \n",
    "# the boundaries are the minimum and maximum scores of \"mean of all 6 features\"\n",
    "#\n",
    "import statistics\n",
    "import random\n",
    "min_features = [min(features[\"Technology & Innovation\"]), min(features[\"Human Capital\"]),\n",
    "                min(features[\"Global Trade & Investment\"]), min(features[\"Institutional Framework\"]), \n",
    "                min(features[\"Sustainable Resources\"]), min(features[\"Demand Environment\"])]\n",
    "max_features = [max(features[\"Technology & Innovation\"]), max(features[\"Human Capital\"]),\n",
    "                max(features[\"Global Trade & Investment\"]), max(features[\"Institutional Framework\"]), \n",
    "                max(features[\"Sustainable Resources\"]), max(features[\"Demand Environment\"])]\n",
    "\n",
    "score_min_features = statistics.mean(min_features)\n",
    "score_max_features = statistics.mean(max_features)\n",
    "\n",
    "newdata_maxrows = 8\n",
    "newdata_maxcols = 6\n",
    "\n",
    "new_data = []\n",
    "rows, cols = newdata_maxrows, newdata_maxcols\n",
    "for i in range(rows):\n",
    "    col = []\n",
    "    for j in range (cols):\n",
    "        col.append(round(random.uniform(score_min_features, score_max_features), 2))\n",
    "    new_data.append(col)"
   ]
  },
  {
   "cell_type": "code",
   "execution_count": 21,
   "id": "de05620e",
   "metadata": {},
   "outputs": [
    {
     "data": {
      "text/plain": [
       "[[3.33, 3.9, 5.96, 5.73, 4.67, 6.1],\n",
       " [2.8, 3.36, 3.05, 3.98, 4.43, 6.32],\n",
       " [6.0, 6.0, 6.1, 3.92, 5.65, 2.68],\n",
       " [6.19, 3.52, 5.43, 3.21, 6.67, 4.84],\n",
       " [3.5, 3.99, 3.73, 5.87, 5.97, 4.73],\n",
       " [5.8, 5.8, 5.1, 3.13, 3.49, 3.49],\n",
       " [4.15, 4.85, 3.06, 6.06, 3.55, 3.29],\n",
       " [4.21, 5.55, 2.74, 3.52, 4.34, 5.44]]"
      ]
     },
     "execution_count": 21,
     "metadata": {},
     "output_type": "execute_result"
    }
   ],
   "source": [
    "# inspect the generated new features: new_data \n",
    "#\n",
    "new_data"
   ]
  },
  {
   "cell_type": "code",
   "execution_count": 22,
   "id": "dd64fd24",
   "metadata": {},
   "outputs": [
    {
     "data": {
      "text/plain": [
       "array([2. , 3.6, 1.6, 1.6, 2.8, 2.4, 2. , 3.2])"
      ]
     },
     "execution_count": 22,
     "metadata": {},
     "output_type": "execute_result"
    }
   ],
   "source": [
    "# predict the classes with new features (new_data)\n",
    "#\n",
    "newdata_preds = knn_model.predict(new_data)\n",
    "newdata_preds"
   ]
  },
  {
   "cell_type": "code",
   "execution_count": 23,
   "id": "adf19a53",
   "metadata": {},
   "outputs": [],
   "source": [
    "# reshape newdata_preds to column\n",
    "# newdata_preds.reshape(-1,1)"
   ]
  },
  {
   "cell_type": "code",
   "execution_count": 24,
   "id": "1bdf0870",
   "metadata": {},
   "outputs": [],
   "source": [
    "# generate the quartile equivalent to the predicted classes for newdata\n",
    "# Quartile 1: 0<= class <1.5\n",
    "# Quartile 2: 1.5<= class <2.5\n",
    "# Quartile 3: 2.5<= class <3.5\n",
    "# Quartile 4: 3.5<= class <4.5\n",
    "#\n",
    "import math\n",
    "rows, cols = newdata_maxrows,  newdata_maxcols\n",
    "newdata_predsQ = []\n",
    "for j in range(rows):\n",
    "    f, i = math.modf(newdata_preds[j])\n",
    "    if f >= 0.5: # the fraction part\n",
    "        # force to round-up\n",
    "        # newdata_predsQ.append(math.ceil(newdata_preds[j]))    \n",
    "        newdata_predsQ.append(\"Q\" + str(math.ceil(newdata_preds[j])))\n",
    "    else:\n",
    "        # force to round-down    \n",
    "        # newdata_predsQ.append(math.floor(newdata_preds[j]))\n",
    "        newdata_predsQ.append(\"Q\" + str(math.floor(newdata_preds[j])))        "
   ]
  },
  {
   "cell_type": "code",
   "execution_count": 25,
   "id": "e92b36ed",
   "metadata": {},
   "outputs": [
    {
     "data": {
      "text/plain": [
       "['Q2', 'Q4', 'Q2', 'Q2', 'Q3', 'Q2', 'Q2', 'Q3']"
      ]
     },
     "execution_count": 25,
     "metadata": {},
     "output_type": "execute_result"
    }
   ],
   "source": [
    "# inspect the values of converted \"classes (number) to nearest quartiles (string)\"\n",
    "#\n",
    "newdata_predsQ"
   ]
  },
  {
   "cell_type": "code",
   "execution_count": 26,
   "id": "b48723c7",
   "metadata": {},
   "outputs": [],
   "source": [
    "# combine the classes (number) with quartiles (string)\n",
    "#\n",
    "newdata_combined = np.append(newdata_preds, newdata_predsQ)"
   ]
  },
  {
   "cell_type": "code",
   "execution_count": 27,
   "id": "8f1c8392",
   "metadata": {},
   "outputs": [
    {
     "name": "stdout",
     "output_type": "stream",
     "text": [
      "[['2.0' '3.6' '1.6' '1.6' '2.8' '2.4' '2.0' '3.2']\n",
      " ['Q2' 'Q4' 'Q2' 'Q2' 'Q3' 'Q2' 'Q2' 'Q3']]\n"
     ]
    }
   ],
   "source": [
    "# inspect the final result of the predicted classes\n",
    "#\n",
    "print(newdata_combined.reshape(2,8))"
   ]
  },
  {
   "cell_type": "code",
   "execution_count": null,
   "id": "13f5d4ca",
   "metadata": {},
   "outputs": [],
   "source": []
  },
  {
   "cell_type": "code",
   "execution_count": null,
   "id": "dc5ef4c3",
   "metadata": {},
   "outputs": [],
   "source": []
  }
 ],
 "metadata": {
  "kernelspec": {
   "display_name": "Python 3 (ipykernel)",
   "language": "python",
   "name": "python3"
  },
  "language_info": {
   "codemirror_mode": {
    "name": "ipython",
    "version": 3
   },
   "file_extension": ".py",
   "mimetype": "text/x-python",
   "name": "python",
   "nbconvert_exporter": "python",
   "pygments_lexer": "ipython3",
   "version": "3.9.12"
  }
 },
 "nbformat": 4,
 "nbformat_minor": 5
}
